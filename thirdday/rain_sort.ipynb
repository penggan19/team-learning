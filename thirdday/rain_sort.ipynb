{
 "cells": [
  {
   "cell_type": "code",
   "execution_count": 1,
   "metadata": {},
   "outputs": [
    {
     "name": "stdout",
     "output_type": "stream",
     "text": [
      "1号车厢入轨->出轨\n",
      "2号车厢入轨->出轨\n",
      "3号车厢入轨->出轨\n",
      "4号车厢入轨->出轨\n",
      "5号车厢入轨->出轨\n",
      "6号车厢入轨->出轨\n",
      "7号车厢入轨->出轨\n",
      "8号车厢入轨->出轨\n",
      "9号车厢入轨->出轨\n",
      "None\n"
     ]
    }
   ],
   "source": [
    "def railroad(cars, k):\n",
    "    cacheLists = []\n",
    "    for i in range(k):\n",
    "        cacheLists.append([])\n",
    "    init = 1\n",
    "    for i in cars:\n",
    "        if i == init:\n",
    "            print('{}号车厢入轨->出轨'.format(i))\n",
    "            init += 1\n",
    "            continue\n",
    "        else:\n",
    "            for list_item in cacheLists:\n",
    "                if not list_item:\n",
    "                    list_item.append(i)\n",
    "                    break\n",
    "                else:\n",
    "                    if min(list_item) > i:\n",
    "                        list_item.append(i)\n",
    "                        break\n",
    "\n",
    "    for item in cacheLists:\n",
    "        for i in range(len(item)):\n",
    "            last = item.pop()\n",
    "            if last == init:\n",
    "                print('{}号车厢入轨->出轨'.format(last))\n",
    "                init += 1\n",
    "\n",
    "\n",
    "car = [5, 8, 1, 7, 4, 2, 9, 6, 3]\n",
    "n = 3\n",
    "print(railroad(car, n))\n"
   ]
  },
  {
   "cell_type": "code",
   "execution_count": null,
   "metadata": {},
   "outputs": [],
   "source": []
  }
 ],
 "metadata": {
  "kernelspec": {
   "display_name": "Python 3",
   "language": "python",
   "name": "python3"
  },
  "language_info": {
   "codemirror_mode": {
    "name": "ipython",
    "version": 3
   },
   "file_extension": ".py",
   "mimetype": "text/x-python",
   "name": "python",
   "nbconvert_exporter": "python",
   "pygments_lexer": "ipython3",
   "version": "3.6.4"
  }
 },
 "nbformat": 4,
 "nbformat_minor": 2
}
