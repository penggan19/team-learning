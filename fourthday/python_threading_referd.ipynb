{
 "cells": [
  {
   "cell_type": "code",
   "execution_count": null,
   "metadata": {},
   "outputs": [],
   "source": [
    "多线程/进程卖票系统\n",
    "设计一个多线程或多进程序来模拟实现一个剧院售票系统：\n",
    "假设某次演出共有10000张观演券待售，观演券编号分别是2018-12-21-00001，2018-12-21-00002，…到2018-12-21-10000，假设总共有5个售票点同时售票，售票点的编号是1-5，用5个线程或进程模拟这5个售票点的售票情况。\n",
    "(1)使用多线程或多进程\n",
    "(2)正确创建观演券的编号\n",
    "(3)输出每个售票点和其所卖出的观演券的票号\n",
    "【注意，输出内容必须包含类似“xx号售票点卖出编号为xxx的观演券”的信息，否则本项不得分。】\n",
    "(4)合理利用锁机制，以保证出票正常；\n",
    "(5)各售票点不能售出相同票号的观演券\n"
   ]
  },
  {
   "cell_type": "code",
   "execution_count": null,
   "metadata": {},
   "outputs": [],
   "source": [
    " 一般来说，使用线程有两种模式:\n",
    " A 创建线程要执行的函数，把这个函数传递进Thread对象里，让它来执行；\n",
    "B 继承Thread类，创建一个新的class，将要执行的代码 写到run函数里面。"
   ]
  },
  {
   "cell_type": "code",
   "execution_count": null,
   "metadata": {},
   "outputs": [],
   "source": [
    "线程是指进程内的一个执行单元,也是进程内的可调度实体.\n",
    "\n",
    "与进程的区别:\n",
    "(1) 地址空间:进程内的一个执行单元;进程至少有一个线程;它们共享进程的地址空间;而进程有自己独立的地址空间;\n",
    "(2) 资源拥有:进程是资源分配和拥有的单位,同一个进程内的线程共享进程的资源\n",
    "(3) 线程是处理器调度的基本单位,但进程不是.\n",
    "(4) 二者均可并发执行.\n",
    "\n",
    "简而言之,一个程序至少有一个进程,一个进程至少有一个线程.\n",
    "\n",
    "原文链接：https://blog.csdn.net/q1352483315/article/details/100349820"
   ]
  },
  {
   "cell_type": "code",
   "execution_count": null,
   "metadata": {},
   "outputs": [],
   "source": [
    "import threading\n",
    "lock = threading.Lock()\n",
    "import time\n",
    "tickets = []\n",
    "j = 0\n",
    "for i in range(1,10001):\n",
    "    a = str(i)\n",
    "    a = a.rjust(5,'0')\n",
    "    a = '2018-12-21-' + a\n",
    "    tickets.append(a)\n",
    "print(tickets)\n",
    "\n",
    "def sale(num):\n",
    "    global tickets\n",
    "    global j\n",
    "    while 1:\n",
    "        print(num,'号售票点正在售票')\n",
    "        lock.acquire()\n",
    "        if j != 10000:\n",
    "            a = tickets[j]\n",
    "            j += 1\n",
    "            print(num,'号售票卖出编号为',a,'的观影卷')\n",
    "        else:\n",
    "            print('票已经售完')\n",
    "            break\n",
    "        lock.release()\n",
    "\n",
    "list_thread = []\n",
    "for i in range(1,6):\n",
    "    a = threading.Thread(target=sale,args=(i,))\n",
    "    list_thread.append(a)\n",
    "for k in list_thread:\n",
    "    k.start()\n"
   ]
  },
  {
   "cell_type": "code",
   "execution_count": null,
   "metadata": {},
   "outputs": [],
   "source": []
  }
 ],
 "metadata": {
  "kernelspec": {
   "display_name": "Python 3",
   "language": "python",
   "name": "python3"
  },
  "language_info": {
   "codemirror_mode": {
    "name": "ipython",
    "version": 3
   },
   "file_extension": ".py",
   "mimetype": "text/x-python",
   "name": "python",
   "nbconvert_exporter": "python",
   "pygments_lexer": "ipython3",
   "version": "3.6.4"
  }
 },
 "nbformat": 4,
 "nbformat_minor": 2
}
